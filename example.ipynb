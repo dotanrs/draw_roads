{
 "cells": [
  {
   "cell_type": "code",
   "execution_count": 1,
   "metadata": {
    "collapsed": true
   },
   "outputs": [],
   "source": [
    "import draw\n",
    "import image\n",
    "import cars as crs\n",
    "import math\n",
    "import matplotlib.pyplot as plt"
   ]
  },
  {
   "cell_type": "code",
   "execution_count": 2,
   "metadata": {
    "collapsed": false
   },
   "outputs": [
    {
     "ename": "TypeError",
     "evalue": "line() missing 3 required positional arguments: 'y1', 'x2', and 'y2'",
     "output_type": "error",
     "traceback": [
      "\u001b[0;31m---------------------------------------------------------------------------\u001b[0m",
      "\u001b[0;31mTypeError\u001b[0m                                 Traceback (most recent call last)",
      "\u001b[0;32m<ipython-input-2-f5143173a08c>\u001b[0m in \u001b[0;36m<module>\u001b[0;34m()\u001b[0m\n\u001b[1;32m     13\u001b[0m \u001b[0;34m\u001b[0m\u001b[0m\n\u001b[1;32m     14\u001b[0m \u001b[0;32mfor\u001b[0m \u001b[0mi\u001b[0m \u001b[0;32min\u001b[0m \u001b[0mrange\u001b[0m\u001b[0;34m(\u001b[0m\u001b[0mnum_frames\u001b[0m\u001b[0;34m)\u001b[0m\u001b[0;34m:\u001b[0m\u001b[0;34m\u001b[0m\u001b[0m\n\u001b[0;32m---> 15\u001b[0;31m     \u001b[0mframes\u001b[0m\u001b[0;34m.\u001b[0m\u001b[0mappend\u001b[0m\u001b[0;34m(\u001b[0m\u001b[0mdraw\u001b[0m\u001b[0;34m.\u001b[0m\u001b[0mdraw_lanes\u001b[0m\u001b[0;34m(\u001b[0m\u001b[0mcars\u001b[0m\u001b[0;34m,\u001b[0m \u001b[0mimage\u001b[0m\u001b[0;34m.\u001b[0m\u001b[0mNpArray\u001b[0m\u001b[0;34m,\u001b[0m \u001b[0;34m{\u001b[0m\u001b[0;34m\"num_lanes\"\u001b[0m\u001b[0;34m:\u001b[0m \u001b[0mnum_lanes\u001b[0m\u001b[0;34m}\u001b[0m\u001b[0;34m,\u001b[0m \u001b[0mshow\u001b[0m\u001b[0;34m=\u001b[0m\u001b[0;32mFalse\u001b[0m\u001b[0;34m)\u001b[0m\u001b[0;34m)\u001b[0m\u001b[0;34m\u001b[0m\u001b[0m\n\u001b[0m",
      "\u001b[0;32m/Users/dreis/src/other_stuff/drawLanes/draw.py\u001b[0m in \u001b[0;36mdraw_lanes\u001b[0;34m(cars, image_type, road_args, show)\u001b[0m\n\u001b[1;32m     17\u001b[0m     \u001b[0mroad\u001b[0m \u001b[0;34m=\u001b[0m \u001b[0mroads\u001b[0m\u001b[0;34m.\u001b[0m\u001b[0mStraightRoad\u001b[0m\u001b[0;34m(\u001b[0m\u001b[0;34m**\u001b[0m\u001b[0mroad_args\u001b[0m\u001b[0;34m)\u001b[0m\u001b[0;34m\u001b[0m\u001b[0m\n\u001b[1;32m     18\u001b[0m \u001b[0;34m\u001b[0m\u001b[0m\n\u001b[0;32m---> 19\u001b[0;31m     \u001b[0mroad\u001b[0m\u001b[0;34m.\u001b[0m\u001b[0mdraw\u001b[0m\u001b[0;34m(\u001b[0m\u001b[0mdraw\u001b[0m\u001b[0;34m)\u001b[0m\u001b[0;34m\u001b[0m\u001b[0m\n\u001b[0m\u001b[1;32m     20\u001b[0m \u001b[0;34m\u001b[0m\u001b[0m\n\u001b[1;32m     21\u001b[0m     \u001b[0;31m# Draw cars\u001b[0m\u001b[0;34m\u001b[0m\u001b[0;34m\u001b[0m\u001b[0m\n",
      "\u001b[0;32m/Users/dreis/src/other_stuff/drawLanes/roads.py\u001b[0m in \u001b[0;36mdraw\u001b[0;34m(self, drawer)\u001b[0m\n\u001b[1;32m     53\u001b[0m             \u001b[0mlane_begin\u001b[0m \u001b[0;34m=\u001b[0m \u001b[0mlane_lines\u001b[0m\u001b[0;34m[\u001b[0m\u001b[0mlane\u001b[0m\u001b[0;34m]\u001b[0m\u001b[0;34m\u001b[0m\u001b[0m\n\u001b[1;32m     54\u001b[0m             \u001b[0mlane_end\u001b[0m \u001b[0;34m=\u001b[0m \u001b[0mlane_ends\u001b[0m\u001b[0;34m[\u001b[0m\u001b[0mlane\u001b[0m\u001b[0;34m]\u001b[0m\u001b[0;34m\u001b[0m\u001b[0m\n\u001b[0;32m---> 55\u001b[0;31m             \u001b[0mdrawer\u001b[0m\u001b[0;34m.\u001b[0m\u001b[0mline\u001b[0m\u001b[0;34m(\u001b[0m\u001b[0;34m(\u001b[0m\u001b[0mlane_begin\u001b[0m\u001b[0;34m,\u001b[0m \u001b[0mself\u001b[0m\u001b[0;34m.\u001b[0m\u001b[0mimage_height\u001b[0m\u001b[0;34m,\u001b[0m \u001b[0mlane_end\u001b[0m\u001b[0;34m,\u001b[0m \u001b[0mself\u001b[0m\u001b[0;34m.\u001b[0m\u001b[0mimage_height\u001b[0m \u001b[0;34m-\u001b[0m \u001b[0mroad_visible_height\u001b[0m\u001b[0;34m)\u001b[0m\u001b[0;34m)\u001b[0m\u001b[0;34m\u001b[0m\u001b[0m\n\u001b[0m\u001b[1;32m     56\u001b[0m \u001b[0;34m\u001b[0m\u001b[0m\n\u001b[1;32m     57\u001b[0m \u001b[0;34m\u001b[0m\u001b[0m\n",
      "\u001b[0;31mTypeError\u001b[0m: line() missing 3 required positional arguments: 'y1', 'x2', and 'y2'"
     ]
    }
   ],
   "source": [
    "num_frames = 20\n",
    "frames_per_second = 20\n",
    "\n",
    "cars = [\n",
    "    crs.Car(1, 4, 0.1 / frames_per_second),\n",
    "    crs.Car(1, 3, 0 / frames_per_second),\n",
    "    crs.Car(0, 2, -0.1 / frames_per_second),\n",
    "    crs.Car(0, 1.3, 0.3 / frames_per_second)\n",
    "]\n",
    "\n",
    "num_lanes = max([car.lane for car in cars])\n",
    "frames = []\n",
    "\n",
    "for i in range(num_frames):\n",
    "    frames.append(draw.draw_lanes(cars, image.NpArray, {\"num_lanes\": num_lanes}, show=False))\n"
   ]
  },
  {
   "cell_type": "code",
   "execution_count": null,
   "metadata": {
    "collapsed": false
   },
   "outputs": [],
   "source": [
    "i = 0\n",
    "def get_frame(t):\n",
    "    global i\n",
    "    frame = frames[i % len(frames)]\n",
    "    i += 1\n",
    "    return frame\n",
    "\n",
    "\n",
    "from moviepy.editor import VideoClip\n",
    "\n",
    "\n",
    "\n",
    "animation = VideoClip(get_frame, duration=math.floor(num_frames / frames_per_second))\n",
    "animation.write_videofile(\"cars.mp4\", fps=24)\n",
    "animation.ipython_display(fps=frames_per_second, codec='mpeg4')"
   ]
  },
  {
   "cell_type": "code",
   "execution_count": null,
   "metadata": {
    "collapsed": false
   },
   "outputs": [],
   "source": [
    "plt.imshow(frames[0])\n",
    "plt.show()\n",
    "animation.write_videofile(\"cars.mp4\", fps=24)"
   ]
  },
  {
   "cell_type": "code",
   "execution_count": null,
   "metadata": {
    "collapsed": false
   },
   "outputs": [],
   "source": [
    "# from moviepy.editor import VideoClip\n",
    "# import numpy as np\n",
    "\n",
    "# frame = np.zeros([400, 400, 3], dtype=np.uint32)\n",
    "# frame[10:40,50:80] = 100\n",
    "\n",
    "# plt.imshow(frame)\n",
    "# plt.show()\n",
    "\n",
    "# def get_frame(t):\n",
    "#     return frame\n",
    "\n",
    "# animation = VideoClip(get_frame, duration=3)\n",
    "# animation.write_videofile(\"my_animatio123n.mp4\", fps=24)\n",
    "# animation.ipython_display(fps=3, codec='mpeg4')"
   ]
  },
  {
   "cell_type": "code",
   "execution_count": 3,
   "metadata": {
    "collapsed": true
   },
   "outputs": [],
   "source": [
    "j = 0\n",
    "\n",
    "def get_frame(_):\n",
    "    global j\n",
    "    j += 1\n",
    "    return j"
   ]
  },
  {
   "cell_type": "code",
   "execution_count": 7,
   "metadata": {
    "collapsed": false
   },
   "outputs": [
    {
     "data": {
      "text/plain": [
       "3"
      ]
     },
     "execution_count": 7,
     "metadata": {},
     "output_type": "execute_result"
    }
   ],
   "source": [
    "get_frame(2)"
   ]
  },
  {
   "cell_type": "code",
   "execution_count": null,
   "metadata": {
    "collapsed": true
   },
   "outputs": [],
   "source": []
  },
  {
   "cell_type": "code",
   "execution_count": null,
   "metadata": {
    "collapsed": true
   },
   "outputs": [],
   "source": []
  }
 ],
 "metadata": {
  "kernelspec": {
   "display_name": "openCV",
   "language": "python",
   "name": "cv"
  },
  "language_info": {
   "codemirror_mode": {
    "name": "ipython",
    "version": 3
   },
   "file_extension": ".py",
   "mimetype": "text/x-python",
   "name": "python",
   "nbconvert_exporter": "python",
   "pygments_lexer": "ipython3",
   "version": "3.5.2"
  }
 },
 "nbformat": 4,
 "nbformat_minor": 2
}
